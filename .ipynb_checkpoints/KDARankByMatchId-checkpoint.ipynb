{
<<<<<<< HEAD
 "cells": [
  {
   "cell_type": "code",
   "execution_count": null,
   "id": "d4da6c23",
   "metadata": {},
   "outputs": [],
   "source": [
    "import requests\n",
    "import pprint\n",
    "import pandas as pd\n",
    "from collections import Counter\n",
    "import csv\n",
    "\n",
    "\n",
    "pp = pprint.PrettyPrinter(indent=4)\n",
    "api_key = 'RGAPI-755961b7-64d0-4cec-aca6-7985badb0a00'\n",
    "# game_id = 'KR_6261112670'\n",
    "lines = ['TOP', 'BOTTOM', 'MIDDLE', 'JUNGLE', 'UTILITY']\n",
    "\n",
    "request_header={\n",
    "    \"User-Agent\": \"Mozilla/5.0 (Windows NT 10.0; Win64; x64) AppleWebKit/537.36 (KHTML, like Gecko) Chrome/94.0.4606.61 Safari/537.36\",\n",
    "    \"Accept-Language\": \"ko-KR,ko;q=0.9,en-US;q=0.8,en;q=0.7\",\n",
    "    \"Accept-Charset\": \"application/x-www-form-urlencoded; charset=UTF-8\",\n",
    "    \"Origin\": \"https://developer.riotgames.com\",\n",
    "    \"X-Riot-Token\": api_key\n",
    "}\n",
    "\n",
    "f = open('챌경기.csv','r')\n",
    "rdr = csv.reader(f)\n",
    "header = next(rdr)\n",
    "\n",
    "def get_match_v5_orderby_kda(game_id):   \n",
    "    summoner_api = 'https://asia.api.riotgames.com/lol/match/v5/matches/' + game_id\n",
    "    r = requests.get(summoner_api,headers=request_header)\n",
    "    df=pd.DataFrame(r.json())\n",
    "    if (df.empty): return False, False\n",
    "    try:\n",
    "        part_df = pd.DataFrame(df['info']['participants']);\n",
    "        version = df['info']['gameVersion']\n",
    "        # 조건 : 이겼는가\n",
    "        if (part_df.empty): return False, False\n",
    "        is_win = part_df['win']==True\n",
    "        rank = dict()\n",
    "        # 라인별 KDA 구하기\n",
    "        print(f'--{temp}번째 요청--')\n",
    "        for line in lines:\n",
    "            doco_line = part_df['individualPosition']==line\n",
    "            if (part_df[is_win & doco_line].empty):\n",
    "                continue\n",
    "            kda = pd.DataFrame(part_df[is_win & doco_line])['challenges'].iloc[0]['kda']\n",
    "            print(kda)\n",
    "            rank[line] = kda\n",
    "        print('----')\n",
    "        return rank, version\n",
    "    except KeyError:\n",
    "        return False, False\n",
    "\n",
    "\n",
    "result = dict()\n",
    "temp = 0\n",
    "# TODO :: range 대신 game id 리스트로 수정\n",
    "for row in rdr:\n",
    "    game_id = row[0]\n",
    "    temp = temp + 1\n",
    "    rank, version = get_match_v5_orderby_kda(game_id)\n",
    "    if (rank is False):\n",
    "        continue\n",
    "    if (not version in result):\n",
    "        result[version] = dict()\n",
    "    result[version] = dict(Counter(result[version])+Counter(rank))\n",
    "\n",
    "\n",
    "# 라인별 KDA 정렬하기\n",
    "# result = dict(sorted(result.items(), key = lambda item: item[1], reverse = True))\n",
    "result"
   ]
  },
  {
   "cell_type": "code",
   "execution_count": 55,
   "id": "cb3ac332",
   "metadata": {
    "scrolled": true
   },
   "outputs": [
    {
     "name": "stdout",
     "output_type": "stream",
     "text": [
      "[30, 60, 43.99999999999999, 26.000000000000004, 26.666666666666668]\n"
     ]
    },
    {
     "data": {
      "image/png": "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\n",
      "text/plain": [
       "<Figure size 432x288 with 1 Axes>"
=======
  "cells": [
    {
      "cell_type": "code",
      "execution_count": 5,
      "id": "d4da6c23",
      "metadata": {},
      "outputs": [
        {
          "data": {
            "text/plain": [
              "{'BOTTOM': 60,\n",
              " 'MIDDLE': 43.99999999999999,\n",
              " 'TOP': 30,\n",
              " 'UTILITY': 26.666666666666668,\n",
              " 'JUNGLE': 26.000000000000004}"
            ]
          },
          "execution_count": 5,
          "metadata": {},
          "output_type": "execute_result"
        }
      ],
      "source": [
        "import requests\n",
        "import pprint\n",
        "import pandas as pd\n",
        "from collections import Counter\n",
        "\n",
        "pp = pprint.PrettyPrinter(indent=4)\n",
        "api_key = 'RGAPI-936fbe44-a27a-4aaf-96c0-9a9ae3df5159'\n",
        "game_id = 'KR_6261112670'\n",
        "lines = ['TOP', 'BOTTOM', 'MIDDLE', 'JUNGLE', 'UTILITY']\n",
        "\n",
        "request_header={\n",
        "    \"User-Agent\": \"Mozilla/5.0 (Windows NT 10.0; Win64; x64) AppleWebKit/537.36 (KHTML, like Gecko) Chrome/94.0.4606.61 Safari/537.36\",\n",
        "    \"Accept-Language\": \"ko-KR,ko;q=0.9,en-US;q=0.8,en;q=0.7\",\n",
        "    \"Accept-Charset\": \"application/x-www-form-urlencoded; charset=UTF-8\",\n",
        "    \"Origin\": \"https://developer.riotgames.com\",\n",
        "    \"X-Riot-Token\": api_key\n",
        "}\n",
        "\n",
        "def get_match_v5_orderby_kda(game_id):\n",
        "    summoner_api = 'https://asia.api.riotgames.com/lol/match/v5/matches/' + game_id\n",
        "    r = requests.get(summoner_api,headers=request_header)\n",
        "    df=pd.DataFrame(r.json())\n",
        "    part_df = pd.DataFrame(df['info']['participants']);\n",
        "\n",
        "    # 조건 : 이겼는가\n",
        "    is_win = part_df['win']==True\n",
        "    rank = dict()\n",
        "    # 라인별 KDA 구하기\n",
        "    for line in lines:\n",
        "        doco_line = part_df['individualPosition']==line\n",
        "        kda = pd.DataFrame(part_df[is_win & doco_line])['challenges'].iloc[0]['kda']\n",
        "        rank[line] = kda\n",
        "    return rank\n",
        "\n",
        "result = dict()\n",
        "\n",
        "# TODO :: range 대신 game id 리스트로 수정\n",
        "for _ in range(10):\n",
        "    result = dict(Counter(result)+Counter(get_match_v5_orderby_kda(game_id)))\n",
        "\n",
        "# 라인별 KDA 정렬하기\n",
        "result = dict(sorted(result.items(), key = lambda item: item[1], reverse = True))\n",
        "result"
      ]
    },
    {
      "cell_type": "code",
      "execution_count": 11,
      "id": "cb3ac332",
      "metadata": {},
      "outputs": [
        {
          "data": {
            "image/png": "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\n",
            "text/plain": [
              "<Figure size 432x288 with 1 Axes>"
            ]
          },
          "metadata": {},
          "output_type": "display_data"
        }
      ],
      "source": [
        "import matplotlib.pyplot as plt\n",
        "\n",
        "labels = []\n",
        "ratio = []\n",
        "season = \"13\"\n",
        "\n",
        "for key, val in result.items():\n",
        "    labels.append(key)\n",
        "    ratio.append(val)\n",
        "plt.rc('font', family='NanumGothic')\n",
        "plt.pie(ratio, labels=labels, autopct='%.1f%%')\n",
        "plt.title(label=f\"{season}시즌 라인별 영향력 그래프\",\n",
        "          loc=\"left\",\n",
        "          fontstyle='italic')\n",
        "plt.show()"
>>>>>>> 8c956bab3d313c71d055809f8016444ca511b0f9
      ]
    }
<<<<<<< HEAD
   ],
   "source": [
    "import matplotlib.pyplot as plt\n",
    "\n",
    "labels = []\n",
    "ratio = []\n",
    "season = \"13\"\n",
    "\n",
    "for key, val in result.items():\n",
    "    for line, kda in val.items():\n",
    "        labels.append(line)\n",
    "        ratio.append(kda)\n",
    "    plt.rc('font', family='NanumGothic')\n",
    "    plt.pie(ratio, labels=labels, autopct='%.1f%%')\n",
    "    plt.title(label=f\"{key}버전 라인별 영향력 그래프\",\n",
    "        loc=\"left\",\n",
    "        fontstyle='italic')\n",
    "    plt.show()"
   ]
  }
 ],
 "metadata": {
  "kernelspec": {
   "display_name": "Python 3",
   "language": "python",
   "name": "python3"
  }
 },
 "nbformat": 4,
 "nbformat_minor": 5
=======
  ],
  "metadata": {
    "kernelspec": {
      "display_name": "Python 3",
      "language": "python",
      "name": "python3"
    },
    "language_info": {
      "codemirror_mode": {
        "name": "ipython",
        "version": 3
      },
      "file_extension": ".py",
      "mimetype": "text/x-python",
      "name": "python",
      "nbconvert_exporter": "python",
      "pygments_lexer": "ipython3",
      "version": "3.8.8"
    }
  },
  "nbformat": 4,
  "nbformat_minor": 5
>>>>>>> 8c956bab3d313c71d055809f8016444ca511b0f9
}
