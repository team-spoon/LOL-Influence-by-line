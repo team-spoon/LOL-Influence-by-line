{
 "cells": [
  {
   "cell_type": "code",
   "execution_count": 5,
   "id": "d4da6c23",
   "metadata": {},
   "outputs": [
    {
     "data": {
      "text/plain": [
       "{'BOTTOM': 60,\n",
       " 'MIDDLE': 43.99999999999999,\n",
       " 'TOP': 30,\n",
       " 'UTILITY': 26.666666666666668,\n",
       " 'JUNGLE': 26.000000000000004}"
      ]
     },
     "execution_count": 5,
     "metadata": {},
     "output_type": "execute_result"
    }
   ],
   "source": [
    "import requests\n",
    "import pprint\n",
    "import pandas as pd\n",
    "from collections import Counter\n",
    "\n",
    "pp = pprint.PrettyPrinter(indent=4)\n",
    "api_key = 'RGAPI-88ac3bfa-6138-474a-9fe0-83d835caaa57'\n",
    "game_id = 'KR_6261112670'\n",
    "lines = ['TOP', 'BOTTOM', 'MIDDLE', 'JUNGLE', 'UTILITY']\n",
    "\n",
    "request_header={\n",
    "    \"User-Agent\": \"Mozilla/5.0 (Windows NT 10.0; Win64; x64) AppleWebKit/537.36 (KHTML, like Gecko) Chrome/94.0.4606.61 Safari/537.36\",\n",
    "    \"Accept-Language\": \"ko-KR,ko;q=0.9,en-US;q=0.8,en;q=0.7\",\n",
    "    \"Accept-Charset\": \"application/x-www-form-urlencoded; charset=UTF-8\",\n",
    "    \"Origin\": \"https://developer.riotgames.com\",\n",
    "    \"X-Riot-Token\": api_key\n",
    "}\n",
    "\n",
    "def get_match_v5_orderby_kda(game_id):\n",
    "    summoner_api = 'https://asia.api.riotgames.com/lol/match/v5/matches/' + game_id\n",
    "    r = requests.get(summoner_api,headers=request_header)\n",
    "    df=pd.DataFrame(r.json())\n",
    "    part_df = pd.DataFrame(df['info']['participants']);\n",
    "\n",
    "    # 조건 : 이겼는가\n",
    "    is_win = part_df['win']==True\n",
    "    rank = dict()\n",
    "    # 라인별 KDA 구하기\n",
    "    for line in lines:\n",
    "        doco_line = part_df['individualPosition']==line\n",
    "        kda = pd.DataFrame(part_df[is_win & doco_line])['challenges'].iloc[0]['kda']\n",
    "        rank[line] = kda\n",
    "    return rank\n",
    "\n",
    "result = dict()\n",
    "\n",
    "# TODO :: range 대신 game id 리스트로 수정\n",
    "for _ in range(10):\n",
    "    result = dict(Counter(result)+Counter(get_match_v5_orderby_kda(game_id)))\n",
    "\n",
    "# 라인별 KDA 정렬하기\n",
    "result = dict(sorted(result.items(), key = lambda item: item[1], reverse = True))\n",
    "result"
   ]
  },
  {
   "cell_type": "code",
   "execution_count": 11,
   "id": "cb3ac332",
   "metadata": {},
   "outputs": [
    {
     "data": {
      "image/png": "[encoded data removed]",
      "text/plain": [
       "<Figure size 432x288 with 1 Axes>"
      ]
     },
     "metadata": {},
     "output_type": "display_data"
    }
   ],
   "source": [
    "import matplotlib.pyplot as plt\n",
    "\n",
    "labels = []\n",
    "ratio = []\n",
    "season = \"13\"\n",
    "\n",
    "for key, val in result.items():\n",
    "    labels.append(key)\n",
    "    ratio.append(val)\n",
    "plt.rc('font', family='NanumGothic')\n",
    "plt.pie(ratio, labels=labels, autopct='%.1f%%')\n",
    "plt.title(label=f\"{season}시즌 라인별 영향력 그래프\",\n",
    "          loc=\"left\",\n",
    "          fontstyle='italic')\n",
    "plt.show()"
   ]
  }
 ],
 "metadata": {
  "kernelspec": {
   "display_name": "Python 3",
   "language": "python",
   "name": "python3"
  },
  "language_info": {
   "codemirror_mode": {
    "name": "ipython",
    "version": 3
   },
   "file_extension": ".py",
   "mimetype": "text/x-python",
   "name": "python",
   "nbconvert_exporter": "python",
   "pygments_lexer": "ipython3",
   "version": "3.8.8"
  }
 },
 "nbformat": 4,
 "nbformat_minor": 5
}
