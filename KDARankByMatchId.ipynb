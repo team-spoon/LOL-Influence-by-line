{
 "cells": [
  {
   "cell_type": "code",
   "execution_count": null,
   "id": "5324cbbc",
   "metadata": {},
   "outputs": [],
   "source": [
    "import pickle\n",
    "user = {'name':'Andrew K. Johnson', 'score': 199, 'location':[38.189323, 127.3495672]}\n",
    "D\n",
    "# save data\n",
    "with open('user.pickle','wb') as fw:\n",
    "    pickle.dump(user, fw)"
   ]
  },
  {
   "cell_type": "code",
   "execution_count": null,
   "id": "d4da6c23",
   "metadata": {},
   "outputs": [],
   "source": [
    "import requests\n",
    "import pprint\n",
    "import pandas as pd\n",
    "from collections import Counter\n",
    "import csv\n",
    "\n",
    "\n",
    "pp = pprint.PrettyPrinter(indent=4)\n",
    "api_key = 'RGAPI-755961b7-64d0-4cec-aca6-7985badb0a00'\n",
    "# game_id = 'KR_6261112670'\n",
    "lines = ['TOP', 'BOTTOM', 'MIDDLE', 'JUNGLE', 'UTILITY']\n",
    "\n",
    "request_header={\n",
    "    \"User-Agent\": \"Mozilla/5.0 (Windows NT 10.0; Win64; x64) AppleWebKit/537.36 (KHTML, like Gecko) Chrome/94.0.4606.61 Safari/537.36\",\n",
    "    \"Accept-Language\": \"ko-KR,ko;q=0.9,en-US;q=0.8,en;q=0.7\",\n",
    "    \"Accept-Charset\": \"application/x-www-form-urlencoded; charset=UTF-8\",\n",
    "    \"Origin\": \"https://developer.riotgames.com\",\n",
    "    \"X-Riot-Token\": api_key\n",
    "}\n",
    "\n",
    "f = open('챌경기.csv','r')\n",
    "rdr = csv.reader(f)\n",
    "header = next(rdr)\n",
    "\n",
    "def get_match_v5_orderby_kda(game_id):   \n",
    "    summoner_api = 'https://asia.api.riotgames.com/lol/match/v5/matches/' + game_id\n",
    "    r = requests.get(summoner_api,headers=request_header)\n",
    "    df=pd.DataFrame(r.json())\n",
    "    if (df.empty): return False, False\n",
    "    try:\n",
    "        part_df = pd.DataFrame(df['info']['participants']);\n",
    "        version = df['info']['gameVersion']\n",
    "        # 조건 : 이겼는가\n",
    "        if (part_df.empty): return False, False\n",
    "        is_win = part_df['win']==True\n",
    "        rank = dict()\n",
    "        # 라인별 KDA 구하기\n",
    "        print(f'--{temp}번째 요청--')\n",
    "        for line in lines:\n",
    "            doco_line = part_df['individualPosition']==line\n",
    "            if (part_df[is_win & doco_line].empty):\n",
    "                continue\n",
    "            kda = pd.DataFrame(part_df[is_win & doco_line])['challenges'].iloc[0]['kda']\n",
    "            print(kda)\n",
    "            rank[line] = kda\n",
    "        print('----')\n",
    "        return rank, version\n",
    "    except KeyError:\n",
    "        return False, False\n",
    "\n",
    "\n",
    "result = dict()\n",
    "temp = 0\n",
    "# TODO :: range 대신 game id 리스트로 수정\n",
    "for row in rdr:\n",
    "    game_id = row[0]\n",
    "    temp = temp + 1\n",
    "    rank, version = get_match_v5_orderby_kda(game_id)\n",
    "    if (rank is False):\n",
    "        continue\n",
    "    if (not version in result):\n",
    "        result[version] = dict()\n",
    "    result[version] = dict(Counter(result[version])+Counter(rank))\n",
    "\n",
    "\n",
    "# 라인별 KDA 정렬하기\n",
    "# result = dict(sorted(result.items(), key = lambda item: item[1], reverse = True))\n",
    "result"
   ]
  },
  {
   "cell_type": "code",
   "execution_count": 55,
   "id": "cb3ac332",
   "metadata": {
    "scrolled": true
   },
   "outputs": [
    {
     "name": "stdout",
     "output_type": "stream",
     "text": [
      "[30, 60, 43.99999999999999, 26.000000000000004, 26.666666666666668]\n"
     ]
    },
    {
     "data": {
      "image/png": "[encoded data removed]",
      "text/plain": [
       "<Figure size 432x288 with 1 Axes>"
      ]
     },
     "metadata": {},
     "output_type": "display_data"
    }
   ],
   "source": [
    "import matplotlib.pyplot as plt\n",
    "\n",
    "labels = []\n",
    "ratio = []\n",
    "season = \"13\"\n",
    "\n",
    "for key, val in result.items():\n",
    "    for line, kda in val.items():\n",
    "        labels.append(line)\n",
    "        ratio.append(kda)\n",
    "    plt.rc('font', family='NanumGothic')\n",
    "    plt.pie(ratio, labels=labels, autopct='%.1f%%')\n",
    "    plt.title(label=f\"{key}버전 라인별 영향력 그래프\",\n",
    "        loc=\"left\",\n",
    "        fontstyle='italic')\n",
    "    plt.show()\n",
    "    labels = []\n",
    "    ratio = []"
   ]
  }
 ],
 "metadata": {
  "kernelspec": {
   "display_name": "Python 3",
   "language": "python",
   "name": "python3"
  }
 },
 "nbformat": 4,
 "nbformat_minor": 5
}
