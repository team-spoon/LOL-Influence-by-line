{
<<<<<<< HEAD
 "cells": [
  {
   "cell_type": "code",
   "execution_count": null,
   "id": "5324cbbc",
   "metadata": {},
   "outputs": [],
   "source": [
    "import pickle\n",
    "user = {'name':'Andrew K. Johnson', 'score': 199, 'location':[38.189323, 127.3495672]}\n",
    "D\n",
    "# save data\n",
    "with open('user.pickle','wb') as fw:\n",
    "    pickle.dump(user, fw)"
   ]
  },
  {
   "cell_type": "code",
   "execution_count": null,
   "id": "d4da6c23",
   "metadata": {},
   "outputs": [],
   "source": [
    "import requests\n",
    "import pprint\n",
    "import pandas as pd\n",
    "from collections import Counter\n",
    "import csv\n",
    "\n",
    "\n",
    "pp = pprint.PrettyPrinter(indent=4)\n",
    "api_key = 'RGAPI-755961b7-64d0-4cec-aca6-7985badb0a00'\n",
    "# game_id = 'KR_6261112670'\n",
    "lines = ['TOP', 'BOTTOM', 'MIDDLE', 'JUNGLE', 'UTILITY']\n",
    "\n",
    "request_header={\n",
    "    \"User-Agent\": \"Mozilla/5.0 (Windows NT 10.0; Win64; x64) AppleWebKit/537.36 (KHTML, like Gecko) Chrome/94.0.4606.61 Safari/537.36\",\n",
    "    \"Accept-Language\": \"ko-KR,ko;q=0.9,en-US;q=0.8,en;q=0.7\",\n",
    "    \"Accept-Charset\": \"application/x-www-form-urlencoded; charset=UTF-8\",\n",
    "    \"Origin\": \"https://developer.riotgames.com\",\n",
    "    \"X-Riot-Token\": api_key\n",
    "}\n",
    "\n",
    "f = open('챌경기.csv','r')\n",
    "rdr = csv.reader(f)\n",
    "header = next(rdr)\n",
    "\n",
    "def get_match_v5_orderby_kda(game_id):   \n",
    "    summoner_api = 'https://asia.api.riotgames.com/lol/match/v5/matches/' + game_id\n",
    "    r = requests.get(summoner_api,headers=request_header)\n",
    "    df=pd.DataFrame(r.json())\n",
    "    if (df.empty): return False, False\n",
    "    try:\n",
    "        part_df = pd.DataFrame(df['info']['participants']);\n",
    "        version = df['info']['gameVersion']\n",
    "        # 조건 : 이겼는가\n",
    "        if (part_df.empty): return False, False\n",
    "        is_win = part_df['win']==True\n",
    "        rank = dict()\n",
    "        # 라인별 KDA 구하기\n",
    "        print(f'--{temp}번째 요청--')\n",
    "        for line in lines:\n",
    "            doco_line = part_df['individualPosition']==line\n",
    "            if (part_df[is_win & doco_line].empty):\n",
    "                continue\n",
    "            kda = pd.DataFrame(part_df[is_win & doco_line])['challenges'].iloc[0]['kda']\n",
    "            print(kda)\n",
    "            rank[line] = kda\n",
    "        print('----')\n",
    "        return rank, version\n",
    "    except KeyError:\n",
    "        return False, False\n",
    "\n",
    "\n",
    "result = dict()\n",
    "temp = 0\n",
    "# TODO :: range 대신 game id 리스트로 수정\n",
    "for row in rdr:\n",
    "    game_id = row[0]\n",
    "    temp = temp + 1\n",
    "    rank, version = get_match_v5_orderby_kda(game_id)\n",
    "    if (rank is False):\n",
    "        continue\n",
    "    if (not version in result):\n",
    "        result[version] = dict()\n",
    "    result[version] = dict(Counter(result[version])+Counter(rank))\n",
    "\n",
    "\n",
    "# 라인별 KDA 정렬하기\n",
    "# result = dict(sorted(result.items(), key = lambda item: item[1], reverse = True))\n",
    "result"
   ]
  },
  {
   "cell_type": "code",
   "execution_count": 55,
   "id": "cb3ac332",
   "metadata": {
    "scrolled": true
   },
   "outputs": [
    {
     "name": "stdout",
     "output_type": "stream",
     "text": [
      "[30, 60, 43.99999999999999, 26.000000000000004, 26.666666666666668]\n"
     ]
    },
    {
     "data": {
      "image/png": "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\n",
      "text/plain": [
       "<Figure size 432x288 with 1 Axes>"
=======
  "cells": [
    {
      "cell_type": "code",
      "execution_count": 2,
      "id": "d4da6c23",
      "metadata": {},
      "outputs": [
        {
          "data": {
            "text/plain": [
              "{'BOTTOM': 60,\n",
              " 'MIDDLE': 43.99999999999999,\n",
              " 'TOP': 30,\n",
              " 'UTILITY': 26.666666666666668,\n",
              " 'JUNGLE': 26.000000000000004}"
            ]
          },
          "execution_count": 2,
          "metadata": {},
          "output_type": "execute_result"
        }
      ],
      "source": [
        "import requests\n",
        "import pprint\n",
        "import pandas as pd\n",
        "from collections import Counter\n",
        "\n",
        "pp = pprint.PrettyPrinter(indent=4)\n",
        "api_key = 'RGAPI-936fbe44-a27a-4aaf-96c0-9a9ae3df5159'\n",
        "game_id = 'KR_6261112670'\n",
        "lines = ['TOP', 'BOTTOM', 'MIDDLE', 'JUNGLE', 'UTILITY']\n",
        "\n",
        "request_header={\n",
        "    \"User-Agent\": \"Mozilla/5.0 (Windows NT 10.0; Win64; x64) AppleWebKit/537.36 (KHTML, like Gecko) Chrome/94.0.4606.61 Safari/537.36\",\n",
        "    \"Accept-Language\": \"ko-KR,ko;q=0.9,en-US;q=0.8,en;q=0.7\",\n",
        "    \"Accept-Charset\": \"application/x-www-form-urlencoded; charset=UTF-8\",\n",
        "    \"Origin\": \"https://developer.riotgames.com\",\n",
        "    \"X-Riot-Token\": api_key\n",
        "}\n",
        "\n",
        "def get_match_v5_orderby_kda(game_id):\n",
        "    summoner_api = 'https://asia.api.riotgames.com/lol/match/v5/matches/' + game_id\n",
        "    r = requests.get(summoner_api,headers=request_header)\n",
        "    df=pd.DataFrame(r.json())\n",
        "    part_df = pd.DataFrame(df['info']['participants']);\n",
        "\n",
        "    # 조건 : 이겼는가\n",
        "    is_win = part_df['win']==True\n",
        "    rank = dict()\n",
        "    # 라인별 KDA 구하기\n",
        "    for line in lines:\n",
        "        doco_line = part_df['individualPosition']==line\n",
        "        kda = pd.DataFrame(part_df[is_win & doco_line])['challenges'].iloc[0]['kda']\n",
        "        rank[line] = kda\n",
        "    return rank\n",
        "\n",
        "result = dict()\n",
        "\n",
        "# TODO :: range 대신 game id 리스트로 수정\n",
        "for _ in range(10):\n",
        "    result = dict(Counter(result)+Counter(get_match_v5_orderby_kda(game_id)))\n",
        "\n",
        "# 라인별 KDA 정렬하기\n",
        "result = dict(sorted(result.items(), key = lambda item: item[1], reverse = True))\n",
        "result"
      ]
    },
    {
      "cell_type": "code",
      "execution_count": 3,
      "id": "cb3ac332",
      "metadata": {},
      "outputs": [
        {
          "data": {
            "image/png": "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\n",
            "text/plain": [
              "<Figure size 432x288 with 1 Axes>"
            ]
          },
          "metadata": {},
          "output_type": "display_data"
        }
      ],
      "source": [
        "import matplotlib.pyplot as plt\n",
        "\n",
        "labels = []\n",
        "ratio = []\n",
        "season = \"13\"\n",
        "\n",
        "for key, val in result.items():\n",
        "    labels.append(key)\n",
        "    ratio.append(val)\n",
        "plt.rc('font', family='NanumGothic')\n",
        "plt.pie(ratio, labels=labels, autopct='%.1f%%')\n",
        "plt.title(label=f\"{season}시즌 라인별 영향력 그래프\",\n",
        "          loc=\"left\",\n",
        "          fontstyle='italic')\n",
        "plt.show()"
>>>>>>> 8c956bab3d313c71d055809f8016444ca511b0f9
      ]
    }
<<<<<<< HEAD
   ],
   "source": [
    "import matplotlib.pyplot as plt\n",
    "\n",
    "labels = []\n",
    "ratio = []\n",
    "season = \"13\"\n",
    "\n",
    "for key, val in result.items():\n",
    "    for line, kda in val.items():\n",
    "        labels.append(line)\n",
    "        ratio.append(kda)\n",
    "    plt.rc('font', family='NanumGothic')\n",
    "    plt.pie(ratio, labels=labels, autopct='%.1f%%')\n",
    "    plt.title(label=f\"{key}버전 라인별 영향력 그래프\",\n",
    "        loc=\"left\",\n",
    "        fontstyle='italic')\n",
    "    plt.show()\n",
    "    labels = []\n",
    "    ratio = []"
   ]
  }
 ],
 "metadata": {
  "kernelspec": {
   "display_name": "Python 3",
   "language": "python",
   "name": "python3"
  }
 },
 "nbformat": 4,
 "nbformat_minor": 5
=======
  ],
  "metadata": {
    "kernelspec": {
      "display_name": "Python 3",
      "language": "python",
      "name": "python3"
    },
    "language_info": {
      "codemirror_mode": {
        "name": "ipython",
        "version": 3
      },
      "file_extension": ".py",
      "mimetype": "text/x-python",
      "name": "python",
      "nbconvert_exporter": "python",
      "pygments_lexer": "ipython3",
      "version": "3.8.8"
    }
  },
  "nbformat": 4,
  "nbformat_minor": 5
>>>>>>> 8c956bab3d313c71d055809f8016444ca511b0f9
}
